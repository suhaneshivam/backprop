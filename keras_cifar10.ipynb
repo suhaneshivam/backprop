{
  "nbformat": 4,
  "nbformat_minor": 0,
  "metadata": {
    "colab": {
      "name": "keras_cifar10.ipynb",
      "provenance": [],
      "collapsed_sections": [],
      "authorship_tag": "ABX9TyMbpgkHuQMWCq9TMwg+Qfej",
      "include_colab_link": true
    },
    "kernelspec": {
      "name": "python3",
      "display_name": "Python 3"
    }
  },
  "cells": [
    {
      "cell_type": "markdown",
      "metadata": {
        "id": "view-in-github",
        "colab_type": "text"
      },
      "source": [
        "<a href=\"https://colab.research.google.com/github/suhaneshivam/backprop/blob/master/keras_cifar10.ipynb\" target=\"_parent\"><img src=\"https://colab.research.google.com/assets/colab-badge.svg\" alt=\"Open In Colab\"/></a>"
      ]
    },
    {
      "cell_type": "code",
      "metadata": {
        "id": "DdO-_8_p6V7U",
        "colab_type": "code",
        "colab": {}
      },
      "source": [
        "from sklearn.preprocessing import LabelBinarizer\n",
        "from keras.models import Sequential\n",
        "from sklearn.metrics import classification_report\n",
        "from keras.datasets import cifar10\n",
        "import numpy as np\n",
        "from keras.optimizers import SGD\n",
        "from keras.layers.core import Dense"
      ],
      "execution_count": 0,
      "outputs": []
    },
    {
      "cell_type": "code",
      "metadata": {
        "id": "HV_VFmvD6bxV",
        "colab_type": "code",
        "outputId": "32b1e1fb-c555-404b-e952-e83442209222",
        "colab": {
          "base_uri": "https://localhost:8080/",
          "height": 34
        }
      },
      "source": [
        "print(\"[INFO]: loading dataset\")\n",
        "((trainX,trainY),(testX,testY))=cifar10.load_data()\n",
        "trainX=trainX.astype(\"float\")/255.0\n",
        "testX=testX.astype(\"float\")/255.0\n",
        "trainX=trainX.reshape(trainX.shape[0],3072)\n",
        "testX=testX.reshape(testX.shape[0],3072)\n"
      ],
      "execution_count": 23,
      "outputs": [
        {
          "output_type": "stream",
          "text": [
            "[INFO]: loading dataset\n"
          ],
          "name": "stdout"
        }
      ]
    },
    {
      "cell_type": "code",
      "metadata": {
        "id": "_qJtOaCa6dmX",
        "colab_type": "code",
        "colab": {}
      },
      "source": [
        "lb=LabelBinarizer()\n",
        "trainY=lb.fit_transform(trainY)\n",
        "testY=lb.transform(testY)\n",
        "labelNamee=[\"aeroplabe\",\"automobile\",\"bird\",\"cat\",\"deer\",\"dog\",\"frog\",\"horse\",\"ship\",\"truck\"]\n"
      ],
      "execution_count": 0,
      "outputs": []
    },
    {
      "cell_type": "code",
      "metadata": {
        "id": "JLq7_FYS6ewP",
        "colab_type": "code",
        "colab": {}
      },
      "source": [
        "model=Sequential()\n",
        "model.add(Dense(1024,input_shape=(3072,),activation=\"relu\"))\n",
        "model.add(Dense(512,activation=\"relu\"))\n",
        "model.add(Dense(10,activation=\"softmax\"))\n",
        "sgd=SGD()\n",
        "model.compile(loss=\"categorical_crossentropy\",optimizer=sgd,metrics=[\"accuracy\"])\n",
        "\n",
        "H=model.fit(trainX,trainY,validation_data=(testX,testY),epochs=100,batch_size=32)"
      ],
      "execution_count": 0,
      "outputs": []
    },
    {
      "cell_type": "code",
      "metadata": {
        "id": "kJzlCiFy6gMI",
        "colab_type": "code",
        "colab": {
          "base_uri": "https://localhost:8080/",
          "height": 349
        },
        "outputId": "8de60d38-666b-4d97-f242-39aa0d455382"
      },
      "source": [
        "print(\"[info]: evaluating model\")\n",
        "predictions=model.predict(testX,batch_size=32)\n",
        "print(classification_report(testY.argmax(axis=1),predictions.argmax(axis=1),target_names=labelNamee))\n"
      ],
      "execution_count": 25,
      "outputs": [
        {
          "output_type": "stream",
          "text": [
            "[info]: evaluating model\n",
            "              precision    recall  f1-score   support\n",
            "\n",
            "   aeroplabe       0.62      0.66      0.64      1000\n",
            "  automobile       0.67      0.66      0.67      1000\n",
            "        bird       0.47      0.44      0.45      1000\n",
            "         cat       0.39      0.42      0.41      1000\n",
            "        deer       0.53      0.47      0.50      1000\n",
            "         dog       0.46      0.45      0.46      1000\n",
            "        frog       0.61      0.62      0.62      1000\n",
            "       horse       0.59      0.63      0.61      1000\n",
            "        ship       0.70      0.70      0.70      1000\n",
            "       truck       0.62      0.59      0.61      1000\n",
            "\n",
            "    accuracy                           0.57     10000\n",
            "   macro avg       0.57      0.57      0.57     10000\n",
            "weighted avg       0.57      0.57      0.57     10000\n",
            "\n"
          ],
          "name": "stdout"
        }
      ]
    }
  ]
}